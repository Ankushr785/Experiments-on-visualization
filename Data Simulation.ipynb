{
 "cells": [
  {
   "cell_type": "code",
   "execution_count": 16,
   "metadata": {
    "collapsed": true
   },
   "outputs": [],
   "source": [
    "import numpy as np\n",
    "import pandas as pd\n",
    "import os\n",
    "os.chdir('/home/ankushraut/Downloads/Thirio')"
   ]
  },
  {
   "cell_type": "code",
   "execution_count": 17,
   "metadata": {
    "collapsed": true
   },
   "outputs": [],
   "source": [
    "#simulating no. of orders for 3 months\n",
    "orders = []\n",
    "for i in range(13):\n",
    "    orders.append(np.random.normal(24+i, 6-(i/10), 7))\n",
    "    "
   ]
  },
  {
   "cell_type": "code",
   "execution_count": 18,
   "metadata": {
    "collapsed": true
   },
   "outputs": [],
   "source": [
    "order_numbers = []\n",
    "for i in range(len(orders)):\n",
    "    for j in range(len(orders[i])):\n",
    "        order_numbers.append(orders[i][j])\n",
    "        \n",
    "for i in range(len(order_numbers)):\n",
    "    order_numbers[i] = int(np.round(order_numbers[i]))"
   ]
  },
  {
   "cell_type": "code",
   "execution_count": 19,
   "metadata": {
    "collapsed": true
   },
   "outputs": [],
   "source": [
    "#order distance simulation\n",
    "#order_distance = []\n",
    "#for i in range(len(order_numbers)):\n",
    " #   order_distance.append(np.random.normal(5+(i/10), 2+(i/50), \n",
    "#                                    order_numbers[i]))"
   ]
  },
  {
   "cell_type": "code",
   "execution_count": 20,
   "metadata": {
    "collapsed": true
   },
   "outputs": [],
   "source": [
    "#distance = []\n",
    "#for i in range(len(order_distance)):\n",
    "#    for j in range(len(order_distance[i])):\n",
    "#        distance.append(order_distance[i][j])\n",
    "#\n",
    "#for i in range(len(distance)):\n",
    " #   distance[i] = float(\"{0:.2f}\".format(distance[i]))"
   ]
  },
  {
   "cell_type": "code",
   "execution_count": 21,
   "metadata": {
    "collapsed": true
   },
   "outputs": [],
   "source": [
    "weekday = ['Fri', 'Sat', 'Sun', 'Mon', 'Tue', 'Wed', 'Thu']\n",
    "Days = 13*weekday"
   ]
  },
  {
   "cell_type": "code",
   "execution_count": 22,
   "metadata": {
    "collapsed": true
   },
   "outputs": [],
   "source": [
    "Day = []\n",
    "for i in range(len(Days)):\n",
    "    for j in range(order_numbers[i]):\n",
    "        Day.append(Days[i])"
   ]
  },
  {
   "cell_type": "code",
   "execution_count": 23,
   "metadata": {
    "collapsed": true
   },
   "outputs": [],
   "source": [
    "Date = []\n",
    "step = 0\n",
    "for i in range(3):\n",
    "    if ((i%2 == 0) & (i>0)):\n",
    "        step+=31\n",
    "    elif ((i%2 == 1) & (i>0)):\n",
    "        step+=30\n",
    "    else:\n",
    "        do_nothing = 1\n",
    "    for j in range(step, step + (30 + (i%2))):\n",
    "        for k in range(order_numbers[j]):\n",
    "                   Date.append(str(i+4)+'/'+str(j-step+1)+'/'+str(2011))"
   ]
  },
  {
   "cell_type": "code",
   "execution_count": 24,
   "metadata": {},
   "outputs": [
    {
     "data": {
      "text/plain": [
       "['6/30/2011', '6/30/2011', '6/30/2011', '6/30/2011', '6/30/2011']"
      ]
     },
     "execution_count": 24,
     "metadata": {},
     "output_type": "execute_result"
    }
   ],
   "source": [
    "Date[-5:]"
   ]
  },
  {
   "cell_type": "code",
   "execution_count": 25,
   "metadata": {
    "collapsed": true
   },
   "outputs": [],
   "source": [
    "Dataset = pd.DataFrame({'Date':Date, 'Day':Day})\n",
    "Dataset['Age'] = np.random.randint(20, 45, Dataset.shape[0])\n",
    "Dataset['BMI'] = np.random.normal(21.5, 2.5, Dataset.shape[0])"
   ]
  },
  {
   "cell_type": "code",
   "execution_count": 26,
   "metadata": {
    "collapsed": true
   },
   "outputs": [],
   "source": [
    "Dataset['Sex'] = np.random.choice(['M', 'F'], Dataset.shape[0])\n",
    "Dataset['Ticket Size'] = np.random.choice([120, 140, 160, 180], Dataset.shape[0])\n",
    "Dataset['Slab'] = np.random.choice(['S', 'M', 'L'], Dataset.shape[0])\n",
    "Dataset['Window'] = pd.DataFrame(np.random.randint(1,49, size = (len(Dataset),1)))\n",
    "Dataset['Discount'] = pd.DataFrame(np.random.randint(0,101, size = (len(Dataset),1)))"
   ]
  },
  {
   "cell_type": "code",
   "execution_count": 27,
   "metadata": {
    "collapsed": true
   },
   "outputs": [],
   "source": [
    "revenue = []\n",
    "for i in range(len(Dataset)):\n",
    "    revenue.append(Dataset['Ticket Size'][i]*(1-(Dataset.Discount[i]/100)))\n",
    "    \n",
    "Dataset['Revenue'] = pd.DataFrame({'Revenue':revenue})"
   ]
  },
  {
   "cell_type": "code",
   "execution_count": 28,
   "metadata": {
    "collapsed": true
   },
   "outputs": [],
   "source": [
    "Dataset['Arrival Latitude'] = np.random.normal(28.33, 1.1, Dataset.shape[0])\n",
    "Dataset['Arrival Longitude'] = np.random.normal(77.12, 1.2, Dataset.shape[0])\n",
    "Dataset['Departure Latitude'] = np.random.normal(28.33, 1.1, Dataset.shape[0])\n",
    "Dataset['Departure Longitude'] = np.random.normal(77.12, 1.2, Dataset.shape[0])"
   ]
  },
  {
   "cell_type": "code",
   "execution_count": 29,
   "metadata": {
    "collapsed": true
   },
   "outputs": [],
   "source": [
    "Dataset['State Cuisine'] = np.random.choice(['J&K', 'Haryana', 'Punjab', 'U.P.', 'Maharashtra', 'South India'], Dataset.shape[0])\n",
    "Dataset['Order Status'] = np.random.choice(['is in the kitchen', 'has been delivered', 'in en route to delivery',\n",
    "                                           'has been cancelled'], Dataset.shape[0])\n",
    "Dataset['ETA'] = np.random.randint(1,30, Dataset.shape[0])\n",
    "Dataset['Curry'] = np.random.randint(1,25,Dataset.shape[0])\n",
    "Dataset['Spice'] = np.random.randint(1,25,Dataset.shape[0])\n",
    "Dataset['Cancel'] = np.random.choice(['Sorry, the order can not be cancelled.', 'The order has been cancelled.'], Dataset.shape[0])\n",
    "Dataset['CustomerID'] = np.random.randint(1, 101, Dataset.shape[0])\n",
    "Dataset['EQ'] = np.random.choice(['Happy', 'Sad', 'Angry', 'Stressed'], Dataset.shape[0])"
   ]
  },
  {
   "cell_type": "code",
   "execution_count": 30,
   "metadata": {
    "collapsed": true
   },
   "outputs": [],
   "source": [
    "Dataset.to_csv('Dataset.csv', index = False)"
   ]
  }
 ],
 "metadata": {
  "kernelspec": {
   "display_name": "Python 3",
   "language": "python",
   "name": "python3"
  },
  "language_info": {
   "codemirror_mode": {
    "name": "ipython",
    "version": 3
   },
   "file_extension": ".py",
   "mimetype": "text/x-python",
   "name": "python",
   "nbconvert_exporter": "python",
   "pygments_lexer": "ipython3",
   "version": "3.5.2"
  }
 },
 "nbformat": 4,
 "nbformat_minor": 2
}
